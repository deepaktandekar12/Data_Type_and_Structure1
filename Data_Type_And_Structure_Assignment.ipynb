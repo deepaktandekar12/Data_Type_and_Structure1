{
  "cells": [
    {
      "cell_type": "markdown",
      "metadata": {
        "id": "yFKzu7CfGWBX"
      },
      "source": [
        "# Data Structure"
      ]
    },
    {
      "cell_type": "markdown",
      "metadata": {
        "id": "ZAxvdfguOfZS"
      },
      "source": [
        "## #Theory Questions"
      ]
    },
    {
      "cell_type": "markdown",
      "metadata": {
        "id": "1yZTe38TGjpQ"
      },
      "source": [
        "### 1. What are data structures, and why are they important?\n",
        "- Data Structures are special ways to organize and store data in a computer so that we can use it effectively.Example- A List = like a to-do list where you keep tasks one after another. A Stack = like a stack of books (last one you put is the first one you take).\n",
        "- They are important because they help us: Store data properly,Search information quickly,Save time and memory and Write efficient programs. -In Short:- Data Structures = smart ways to arrange data → faster, easier, and more efficient programs."
      ]
    },
    {
      "cell_type": "markdown",
      "metadata": {
        "id": "NPhCLq2UG4zT"
      },
      "source": [
        "### 2. Explain the difference between mutable and immutable data types with examples.\n",
        "- Mutable Data Types:- Can be changed/modified after creation.You can update, add, or remove elements without creating a new object. Examples:List,Dictionary,Set.\n",
        "- Immutable Data Types:- Cannot be changed after creation.If you try to change them, a new object is created. Examples:int, float,string,tuple,bool."
      ]
    },
    {
      "cell_type": "markdown",
      "metadata": {
        "id": "pPja-pPxG5oo"
      },
      "source": [
        "### 3. What are the main differences between lists and tuples in Python?\n",
        "- A list is mutable collection in python, written with square bracket[],  allowing the change like adding, removing, or modifying elements.\n",
        "\n",
        "- A tuples is an immutable, written with parentheses(), meaning its element cannot be change after creation, tuples are faster and use for fix data."
      ]
    },
    {
      "cell_type": "markdown",
      "metadata": {
        "id": "54KGm-JkG5_g"
      },
      "source": [
        "### 4. Describe how dictionaries store data.\n",
        "- Dictionaries store data which store the data in the form of key value pair and the key are unique, value can be anything list, stringe, number etc."
      ]
    },
    {
      "cell_type": "markdown",
      "metadata": {
        "id": "vq0LIpyFHQWk"
      },
      "source": [
        "### 5. Why might you use a set instead of a list in Python?\n",
        "- Set and list both are mutable in python  so change can be possible we see set insted of list because set are unorder callection of unique elenemt, and repeated value get remove in set."
      ]
    },
    {
      "cell_type": "markdown",
      "metadata": {
        "id": "vE35zQHFHUIT"
      },
      "source": [
        "### 6. What is a string in Python, and how is it different from a list?\n",
        "   > String is a variable in python, it print character value and it is a immutable where else list is a mutable."
      ]
    },
    {
      "cell_type": "markdown",
      "metadata": {
        "id": "8I0Jmvm6HdvX"
      },
      "source": [
        "### 7. How do tuples ensure data integrity in Python?\n",
        "   > Tuples is immutable it mean intergrity data will not change and provied a ensure the data integrity in python."
      ]
    },
    {
      "cell_type": "markdown",
      "metadata": {
        "id": "B4UAIHEJH8-Z"
      },
      "source": [
        "### 8. What is a hash table, and how does it relate to dictionaries in Python?\n",
        "   > A hash table store data using a key and a hash function for fast access. In python, dictionaries are using hash tables."
      ]
    },
    {
      "cell_type": "markdown",
      "metadata": {
        "id": "Lfw9UVAmH_X6"
      },
      "source": [
        "### 9. Can lists contain different data types in Python?\n",
        "   > Yes, a list can have different data types like numbers, string, and even other list together."
      ]
    },
    {
      "cell_type": "markdown",
      "metadata": {
        "id": "uIIx16s7IEsQ"
      },
      "source": [
        "### 10. Explain why strings are immutable in Python.\n",
        "   > srings are immutable so that they are safe to use and cannot be changed by mistake, which also makes them faster in some operations."
      ]
    },
    {
      "cell_type": "markdown",
      "metadata": {
        "id": "a1XdSrweG7PV"
      },
      "source": [
        "### 11. What advantages do dictionaries offer over lists for certain tasks?\n",
        "  > Dictionaries allow faster seachring by key, store data with labels (keys), and avoid through the whole list."
      ]
    },
    {
      "cell_type": "markdown",
      "metadata": {
        "id": "WJ8ExqMFIT6J"
      },
      "source": [
        "### 12. Describe a scenario where using a tuple would be preferable over a list.\n",
        "   > A tuble is btter when we need fixed data that should not change, like storing days of week or fixed coordinates."
      ]
    },
    {
      "cell_type": "markdown",
      "metadata": {
        "id": "yRmBEv30IYgq"
      },
      "source": [
        "### 13. How do sets handle duplicate values in Python?\n",
        "   > Sets automatically removes duplicate value and keep only unique elements."
      ]
    },
    {
      "cell_type": "markdown",
      "metadata": {
        "id": "rRKTkT_tIeD1"
      },
      "source": [
        "### 14. How does the “in” keyword work differently for lists and dictionaries?\n",
        "  >.In a list, \"in\" checks if a value exists.\n",
        "   \n",
        "  >.In a dictonary, \"in\" checks if a key exixts, not the value."
      ]
    },
    {
      "cell_type": "markdown",
      "metadata": {
        "id": "1-9_Lt2nIiep"
      },
      "source": [
        "### 15.Can you modify the elements of a tuple? Explain why or why not.\n",
        "   >Np, we cannot modify a tuple because it is immutable, meaning it cannot be change after creation."
      ]
    },
    {
      "cell_type": "markdown",
      "metadata": {
        "id": "prcWmRQGIuLO"
      },
      "source": [
        "### 16. What is a nested dictionary, and give an example of its use case?\n",
        "  > A nested dictionary is a dictionary inside another dictionary. It is useful for storing related data in a structured way, like studend details grouped bt ID."
      ]
    },
    {
      "cell_type": "markdown",
      "metadata": {
        "id": "A6j0kQDwI1dO"
      },
      "source": [
        "### 17. Describe the time complexity of accessing elements in a dictionary.\n",
        "   > Accessing elements in a dictionary is generally o(1) time, meaning it is very fast because it uses hashing."
      ]
    },
    {
      "cell_type": "markdown",
      "metadata": {
        "id": "hdSvC-_NI2iK"
      },
      "source": [
        "### 18. In what situations are lists preferred over dictionaries?\n",
        "  > List are preferred when data is ordered, when we don't need key-based access, or when the data may have duplicates."
      ]
    },
    {
      "cell_type": "markdown",
      "metadata": {
        "id": "qBlr9ylDI86J"
      },
      "source": [
        "### 19. Why are dictionaries considered unordered, and how does that affect data retrieval?\n",
        "   > Dictionaries are unordered because their elements are not stored in a fixed sequence. This means we cannot access items by position like in a list; we must use key."
      ]
    },
    {
      "cell_type": "markdown",
      "metadata": {
        "id": "WasL717zJCxF"
      },
      "source": [
        "### 20.Explain the difference between a list and a dictionary in terms of data retrieval?\n",
        "   > .In a list, we get data by its position (index).\n",
        "\n",
        "   > .In a dictionary, we get data by its key, which is usaually faster."
      ]
    },
    {
      "cell_type": "markdown",
      "metadata": {
        "id": "bVa0U7-TJLK3"
      },
      "source": [
        "#Practical Questions"
      ]
    },
    {
      "cell_type": "markdown",
      "metadata": {
        "id": "X1ClumtnJSkK"
      },
      "source": [
        "### 1. Write a code to create a string with your name and print it."
      ]
    },
    {
      "cell_type": "code",
      "execution_count": 1,
      "metadata": {
        "colab": {
          "base_uri": "https://localhost:8080/"
        },
        "id": "9xInimUiJhh8",
        "outputId": "6f5542a4-7059-4be8-f0c3-4798b258d1eb"
      },
      "outputs": [
        {
          "name": "stdout",
          "output_type": "stream",
          "text": [
            "Deepak\n"
          ]
        }
      ],
      "source": [
        "my_name = \"Deepak\"\n",
        "print(my_name)"
      ]
    },
    {
      "cell_type": "markdown",
      "metadata": {
        "id": "0u8SGdsCJiSm"
      },
      "source": [
        "### 2. Write a code to find the length of the string \"Hello World\"."
      ]
    },
    {
      "cell_type": "code",
      "execution_count": 2,
      "metadata": {
        "colab": {
          "base_uri": "https://localhost:8080/"
        },
        "id": "0yO12ZRUJqHD",
        "outputId": "a413fd33-6700-4099-a87b-5a5fe745e163"
      },
      "outputs": [
        {
          "name": "stdout",
          "output_type": "stream",
          "text": [
            "11\n"
          ]
        }
      ],
      "source": [
        "str = \"Hello World\"\n",
        "print(len(str))"
      ]
    },
    {
      "cell_type": "markdown",
      "metadata": {
        "id": "dn8zM_9aJqih"
      },
      "source": [
        "### 3. Write a code to slice the first 3 characters from the string \"Python Programming\"."
      ]
    },
    {
      "cell_type": "code",
      "execution_count": 3,
      "metadata": {
        "colab": {
          "base_uri": "https://localhost:8080/"
        },
        "id": "JLz3CO_IJz24",
        "outputId": "0ade2584-9e7d-47a3-f2f8-04f10303235a"
      },
      "outputs": [
        {
          "name": "stdout",
          "output_type": "stream",
          "text": [
            "first 3 characters: Pyt\n"
          ]
        }
      ],
      "source": [
        "# first 3 characters\n",
        "text = \"Python Programming\"\n",
        "first_three = text[:3]\n",
        "print(\"first 3 characters:\", first_three)"
      ]
    },
    {
      "cell_type": "markdown",
      "metadata": {
        "id": "lNDvWsr1J0cn"
      },
      "source": [
        "### 4. Write a code to convert the string \"hello\" to uppercase."
      ]
    },
    {
      "cell_type": "code",
      "execution_count": 4,
      "metadata": {
        "colab": {
          "base_uri": "https://localhost:8080/"
        },
        "id": "sxuk9NOBKFp_",
        "outputId": "48c43b63-bd1a-4f19-e49e-9ebad4aa48f1"
      },
      "outputs": [
        {
          "name": "stdout",
          "output_type": "stream",
          "text": [
            "HELLO\n"
          ]
        }
      ],
      "source": [
        "str = \"hello\"\n",
        "print(str.upper())"
      ]
    },
    {
      "cell_type": "markdown",
      "metadata": {
        "id": "Rd8jDnxEKGJc"
      },
      "source": [
        "### 5. Write a code to replace the word \"apple\" with \"orange\" in the string \"I like apple\"."
      ]
    },
    {
      "cell_type": "code",
      "execution_count": 5,
      "metadata": {
        "colab": {
          "base_uri": "https://localhost:8080/"
        },
        "id": "hWuZXY1ZKK8O",
        "outputId": "18d330ce-6eb2-4b42-96db-fdca919827cf"
      },
      "outputs": [
        {
          "name": "stdout",
          "output_type": "stream",
          "text": [
            "I like orange\n"
          ]
        }
      ],
      "source": [
        "# changing apple into orange.\n",
        "str = \"I like apple\"\n",
        "print(str.replace(\"apple\", \"orange\"))"
      ]
    },
    {
      "cell_type": "markdown",
      "metadata": {
        "id": "ADsM__XEKLU8"
      },
      "source": [
        "### 6. Write a code to create a list with numbers 1 to 5 and print it.\n"
      ]
    },
    {
      "cell_type": "code",
      "execution_count": 6,
      "metadata": {
        "colab": {
          "base_uri": "https://localhost:8080/"
        },
        "id": "47gX5exmKSsr",
        "outputId": "3fc863f0-6e3e-4797-c70e-a5fb5dffd958"
      },
      "outputs": [
        {
          "name": "stdout",
          "output_type": "stream",
          "text": [
            "[1, 2, 3, 4, 5]\n"
          ]
        }
      ],
      "source": [
        "# list with number 1 to 5.\n",
        "my_list = list(range(1, 6))\n",
        "print(my_list)"
      ]
    },
    {
      "cell_type": "markdown",
      "metadata": {
        "id": "mJhVbR8hKWt_"
      },
      "source": [
        "### 7. Write a code to append the number 10 to the list [1, 2, 3, 4]."
      ]
    },
    {
      "cell_type": "code",
      "execution_count": 7,
      "metadata": {
        "colab": {
          "base_uri": "https://localhost:8080/"
        },
        "id": "JcBMiNO2KhBE",
        "outputId": "79f4c2b9-53bd-4c3a-bac9-5bbca0d294a4"
      },
      "outputs": [
        {
          "name": "stdout",
          "output_type": "stream",
          "text": [
            "My_list: [1, 2, 3, 4, 10]\n"
          ]
        }
      ],
      "source": [
        "# Append method into list form:\n",
        "\n",
        "my_list = [1,2,3,4]\n",
        "my_list.append(10)\n",
        "print(\"My_list:\", my_list)"
      ]
    },
    {
      "cell_type": "markdown",
      "metadata": {
        "id": "2FOdytkCKhW6"
      },
      "source": [
        "### 8. Write a code to remove the number 3 from the list [1, 2, 3, 4, 5]."
      ]
    },
    {
      "cell_type": "code",
      "execution_count": 8,
      "metadata": {
        "colab": {
          "base_uri": "https://localhost:8080/"
        },
        "id": "3srwTzjiKpFz",
        "outputId": "301b3d0e-391d-43b3-b0d3-f0647e7f8abb"
      },
      "outputs": [
        {
          "name": "stdout",
          "output_type": "stream",
          "text": [
            "My list: [1, 2, 4, 5]\n"
          ]
        }
      ],
      "source": [
        "# Remove number 3 from list:\n",
        "\n",
        "my_list = [1,2,3,4,5]\n",
        "my_list.remove(3)\n",
        "print(\"My list:\", my_list)"
      ]
    },
    {
      "cell_type": "markdown",
      "metadata": {
        "id": "hjI8YzawKpno"
      },
      "source": [
        "### 9. Write a code to access the second element in the list ['a', 'b', 'c', 'd']."
      ]
    },
    {
      "cell_type": "code",
      "execution_count": 9,
      "metadata": {
        "colab": {
          "base_uri": "https://localhost:8080/"
        },
        "id": "Q37O0RxwKvl1",
        "outputId": "d3586223-b50b-4ba4-8a5d-810bbcf2fd4f"
      },
      "outputs": [
        {
          "name": "stdout",
          "output_type": "stream",
          "text": [
            "c\n"
          ]
        }
      ],
      "source": [
        "# Method of access element:\n",
        "\n",
        "my_list = ['a','b','c','d']\n",
        "print(my_list[2])"
      ]
    },
    {
      "cell_type": "markdown",
      "metadata": {
        "id": "OuVDORvjKwES"
      },
      "source": [
        "### 10. Write a code to reverse the list [10, 20, 30, 40, 50]."
      ]
    },
    {
      "cell_type": "code",
      "execution_count": 10,
      "metadata": {
        "colab": {
          "base_uri": "https://localhost:8080/"
        },
        "id": "fWG5ac-DK1Q0",
        "outputId": "7a70d25e-fcd4-4858-800d-4a46d08e5b50"
      },
      "outputs": [
        {
          "name": "stdout",
          "output_type": "stream",
          "text": [
            " My reverse list: [50, 40, 30, 20, 10]\n"
          ]
        }
      ],
      "source": [
        "#Reverse\n",
        "my_list = [10,20,30,40,50]\n",
        "my_list.reverse()\n",
        "print(\" My reverse list:\", my_list)"
      ]
    },
    {
      "cell_type": "markdown",
      "metadata": {
        "id": "pUcES1fDK1m7"
      },
      "source": [
        "### 11. Write a code to create a tuple with the elements 100, 200, 300 and print it."
      ]
    },
    {
      "cell_type": "code",
      "execution_count": 11,
      "metadata": {
        "colab": {
          "base_uri": "https://localhost:8080/"
        },
        "id": "pUqugvtwK8D7",
        "outputId": "56abedf6-11ca-4f87-c430-036355ad2cdb"
      },
      "outputs": [
        {
          "name": "stdout",
          "output_type": "stream",
          "text": [
            "(100, 200, 300)\n"
          ]
        }
      ],
      "source": [
        "# Tuple\n",
        "\n",
        "tup = (100, 200, 300,)\n",
        "print(tup)"
      ]
    },
    {
      "cell_type": "markdown",
      "metadata": {
        "id": "2wuFpKp0K8lY"
      },
      "source": [
        "### 12. Write a code to access the second-to-last element of the tuple ('red', 'green', 'blue', 'yellow')."
      ]
    },
    {
      "cell_type": "code",
      "execution_count": 12,
      "metadata": {
        "colab": {
          "base_uri": "https://localhost:8080/"
        },
        "id": "syX0wjPKLA_9",
        "outputId": "e01d920e-cc96-48f0-d447-8b9d6cfe085d"
      },
      "outputs": [
        {
          "name": "stdout",
          "output_type": "stream",
          "text": [
            "blue\n"
          ]
        }
      ],
      "source": [
        "# Access second-last element:\n",
        "tup = ('red','green','blue','yellow')\n",
        "print(tup[-2])"
      ]
    },
    {
      "cell_type": "markdown",
      "metadata": {
        "id": "oJc3O-npLBxa"
      },
      "source": [
        "### 13. Write a code to find the minimum number in the tuple (10, 20, 5, 15)."
      ]
    },
    {
      "cell_type": "code",
      "execution_count": 13,
      "metadata": {
        "colab": {
          "base_uri": "https://localhost:8080/"
        },
        "id": "Bzs6_YwmLE7k",
        "outputId": "cca3515d-b9af-4d90-8cc0-0ce1751c194b"
      },
      "outputs": [
        {
          "name": "stdout",
          "output_type": "stream",
          "text": [
            "The minimum number is: 5\n"
          ]
        }
      ],
      "source": [
        "# finding the minimum number:\n",
        "\n",
        "num = (10,20,5,15)\n",
        "minimum_num = min(num)\n",
        "print(\"The minimum number is:\", minimum_num)"
      ]
    },
    {
      "cell_type": "markdown",
      "metadata": {
        "id": "ql8qwb00LFU0"
      },
      "source": [
        "### 14. Write a code to find the index of the element \"cat\" in the tuple ('dog', 'cat', 'rabbit')."
      ]
    },
    {
      "cell_type": "code",
      "execution_count": 14,
      "metadata": {
        "colab": {
          "base_uri": "https://localhost:8080/"
        },
        "id": "xgxQoDbMLJPX",
        "outputId": "b52b41db-50e8-4a40-a480-2a00ddee9493"
      },
      "outputs": [
        {
          "name": "stdout",
          "output_type": "stream",
          "text": [
            "1\n"
          ]
        }
      ],
      "source": [
        "# Find the index:\n",
        "tup = ('dag','cat','rabbit')\n",
        "print(tup.index('cat'))"
      ]
    },
    {
      "cell_type": "markdown",
      "metadata": {
        "id": "-iNr9YbJLJoW"
      },
      "source": [
        "### 15. Write a code to create a tuple containing three different fruits and check if \"kiwi\" is in it."
      ]
    },
    {
      "cell_type": "code",
      "execution_count": 15,
      "metadata": {
        "colab": {
          "base_uri": "https://localhost:8080/"
        },
        "id": "hkbRyUG6LNX9",
        "outputId": "4425ef50-3781-428e-938c-b978e093f82d"
      },
      "outputs": [
        {
          "name": "stdout",
          "output_type": "stream",
          "text": [
            "kiwi is in list:\n"
          ]
        }
      ],
      "source": [
        "# checking if kiwi in fruits list:\n",
        "\n",
        "fruits = (\"mango\",\"apple\",\"kiwi\")\n",
        "if \"kiwi\" in fruits:\n",
        "  print(\"kiwi is in list:\")\n",
        "else:\n",
        "  print(\"kiwi is not in list:\")"
      ]
    },
    {
      "cell_type": "markdown",
      "metadata": {
        "id": "RGSxB5ssLRgW"
      },
      "source": [
        "### 16. Write a code to create a set with the elements 'a', 'b', 'c' and print it."
      ]
    },
    {
      "cell_type": "code",
      "execution_count": 16,
      "metadata": {
        "colab": {
          "base_uri": "https://localhost:8080/"
        },
        "id": "STG3aFmMLWo-",
        "outputId": "64f15768-7a95-4e03-f035-ffabfaaad903"
      },
      "outputs": [
        {
          "name": "stdout",
          "output_type": "stream",
          "text": [
            "{'c', 'a', 'b'}\n"
          ]
        }
      ],
      "source": [
        "# Set method:\n",
        "\n",
        "set = {'a','b','c'}\n",
        "print(set)"
      ]
    },
    {
      "cell_type": "markdown",
      "metadata": {
        "id": "-bbn0leELXIL"
      },
      "source": [
        "### 17. Write a code to clear all elements from the set {1, 2, 3, 4, 5}."
      ]
    },
    {
      "cell_type": "code",
      "execution_count": 17,
      "metadata": {
        "colab": {
          "base_uri": "https://localhost:8080/"
        },
        "id": "WvMPTgsxLaSo",
        "outputId": "f604a2fe-e6fd-443f-e59b-836e50632e00"
      },
      "outputs": [
        {
          "name": "stdout",
          "output_type": "stream",
          "text": [
            "Clear all elements: set()\n"
          ]
        }
      ],
      "source": [
        "# clear all elements.\n",
        "\n",
        "set = {1,2,3,4,5}\n",
        "set.clear()\n",
        "print(\"Clear all elements:\", set)"
      ]
    },
    {
      "cell_type": "markdown",
      "metadata": {
        "id": "z37nBxQnLa2R"
      },
      "source": [
        "### 18. Write a code to remove the element 4 from the set {1, 2, 3, 4}."
      ]
    },
    {
      "cell_type": "code",
      "execution_count": 18,
      "metadata": {
        "colab": {
          "base_uri": "https://localhost:8080/"
        },
        "id": "jPCsxWUBLgHs",
        "outputId": "676116d6-cdce-4c1b-8b89-20593fd69200"
      },
      "outputs": [
        {
          "name": "stdout",
          "output_type": "stream",
          "text": [
            "Remove the element: {1, 2, 3}\n"
          ]
        }
      ],
      "source": [
        "#remove the element:\n",
        "set = {1,2,3,4,}\n",
        "set.remove(4)\n",
        "print(\"Remove the element:\", set)"
      ]
    },
    {
      "cell_type": "markdown",
      "metadata": {
        "id": "4T4l1gXeLhdl"
      },
      "source": [
        "### 19. Write a code to find the union of two sets {1, 2, 3} and {3, 4, 5}."
      ]
    },
    {
      "cell_type": "code",
      "execution_count": 19,
      "metadata": {
        "colab": {
          "base_uri": "https://localhost:8080/"
        },
        "id": "K7HA05S-LlLZ",
        "outputId": "4777ba5d-3ed4-4876-fabe-a5e5e93cb20f"
      },
      "outputs": [
        {
          "name": "stdout",
          "output_type": "stream",
          "text": [
            "finding the union: {1, 2, 3, 4, 5}\n"
          ]
        }
      ],
      "source": [
        "# Union:\n",
        "set1 = {1,2,3}\n",
        "set2 = {3,4,5}\n",
        "print(\"finding the union:\", set1 | set2)"
      ]
    },
    {
      "cell_type": "markdown",
      "metadata": {
        "id": "Av9r7tYULliy"
      },
      "source": [
        "### 20. Write a code to find the intersection of two sets {1, 2, 3} and {2, 3, 4}."
      ]
    },
    {
      "cell_type": "code",
      "execution_count": 20,
      "metadata": {
        "colab": {
          "base_uri": "https://localhost:8080/"
        },
        "id": "QlqO3vpPLqq7",
        "outputId": "12d5f7c3-e768-4e8e-fe78-eb25d2d9ec3b"
      },
      "outputs": [
        {
          "name": "stdout",
          "output_type": "stream",
          "text": [
            "Intersection: {2, 3}\n"
          ]
        }
      ],
      "source": [
        "# Intersection:\n",
        "\n",
        "set1 = {1,2,3}\n",
        "set2 = {2,3,4}\n",
        "print(\"Intersection:\", set1 & set2)"
      ]
    },
    {
      "cell_type": "markdown",
      "metadata": {
        "id": "a2rzVu_cLrJ4"
      },
      "source": [
        "### 21. Write a code to create a dictionary with the keys \"name\", \"age\", and \"city\", and print it."
      ]
    },
    {
      "cell_type": "code",
      "execution_count": 21,
      "metadata": {
        "colab": {
          "base_uri": "https://localhost:8080/"
        },
        "id": "3VHhGQM0Luc5",
        "outputId": "36665c13-c32f-492e-f278-48edfb07b879"
      },
      "outputs": [
        {
          "name": "stdout",
          "output_type": "stream",
          "text": [
            "{'Name': '', 'Age': '', 'city': ''}\n"
          ]
        }
      ],
      "source": [
        "# Dictionary:\n",
        "dict = {\n",
        "    \"Name\": \"\",\n",
        "    \"Age\": \"\",\n",
        "    \"city\": \"\"\n",
        "}\n",
        "\n",
        "print(dict)"
      ]
    },
    {
      "cell_type": "markdown",
      "metadata": {
        "id": "oRC9VulyLu3L"
      },
      "source": [
        "### 22. Write a code to add a new key-value pair \"country\": \"USA\" to the dictionary {'name': 'John', 'age': 25}."
      ]
    },
    {
      "cell_type": "code",
      "execution_count": 22,
      "metadata": {
        "colab": {
          "base_uri": "https://localhost:8080/"
        },
        "id": "zfxoFYfiLzGS",
        "outputId": "4375dd62-7baf-4e18-96a0-e5550ab96dc9"
      },
      "outputs": [
        {
          "name": "stdout",
          "output_type": "stream",
          "text": [
            "Adding new key value: {'name': 'John', 'age': 25, 'country': 'USA'}\n"
          ]
        }
      ],
      "source": [
        "# key-value\n",
        "dict = {\n",
        "    \"name\": \"John\",\n",
        "    \"age\": 25\n",
        "}\n",
        "dict[\"country\"] = \"USA\"\n",
        "print(\"Adding new key value:\", dict)"
      ]
    },
    {
      "cell_type": "markdown",
      "metadata": {
        "id": "ndfq3cmbLzgT"
      },
      "source": [
        "### 23. Write a code to access the value associated with the key \"name\" in the dictionary {'name': 'Alice', 'age': 30}."
      ]
    },
    {
      "cell_type": "code",
      "execution_count": 23,
      "metadata": {
        "colab": {
          "base_uri": "https://localhost:8080/"
        },
        "id": "IR6CRCQ_L5Eh",
        "outputId": "3c7ae9b2-389c-4cab-dc31-762b06177385"
      },
      "outputs": [
        {
          "name": "stdout",
          "output_type": "stream",
          "text": [
            "Alice\n"
          ]
        }
      ],
      "source": [
        "# key \"name\".\n",
        "person = {'name':'Alice','Age':30}\n",
        "value = person['name']\n",
        "print(value)"
      ]
    },
    {
      "cell_type": "markdown",
      "metadata": {
        "id": "uLOcsGN6L5df"
      },
      "source": [
        "### 24. Write a code to remove the key \"age\" from the dictionary {'name': 'Bob', 'age': 22, 'city': 'New York'}."
      ]
    },
    {
      "cell_type": "code",
      "execution_count": 24,
      "metadata": {
        "colab": {
          "base_uri": "https://localhost:8080/"
        },
        "id": "G_5o5mbPL_Dy",
        "outputId": "cfb89de3-f283-433e-8c06-a242c76d95ca"
      },
      "outputs": [
        {
          "name": "stdout",
          "output_type": "stream",
          "text": [
            "Dictionary after removing key 'age': {'name': 'Bob', 'city': 'New york'}\n"
          ]
        }
      ],
      "source": [
        "# Removing key from dictionary:\n",
        "\n",
        "my_dict = {'name':'Bob','age':22,'city':'New york'}\n",
        "removed_value = my_dict.pop('age')\n",
        "print(\"Dictionary after removing key 'age':\", my_dict)"
      ]
    },
    {
      "cell_type": "markdown",
      "metadata": {
        "id": "rlGXZK-RL_m4"
      },
      "source": [
        "### 25. Write a code to check if the key \"city\" exists in the dictionary {'name': 'Alice', 'city': 'Paris'}."
      ]
    },
    {
      "cell_type": "code",
      "execution_count": 25,
      "metadata": {
        "colab": {
          "base_uri": "https://localhost:8080/"
        },
        "id": "vtx7YkX6MDph",
        "outputId": "3fe6ad4a-2df5-4328-ab8c-e91f08db5f68"
      },
      "outputs": [
        {
          "name": "stdout",
          "output_type": "stream",
          "text": [
            "Key 'city' exists in the dictionary\n"
          ]
        }
      ],
      "source": [
        "#check if the key \"city\" exists:\n",
        "my_dict = {'name':'Alice','city':'Paris'}\n",
        "if 'city' in my_dict:\n",
        "  print(\"Key 'city' exists in the dictionary\")\n",
        "else:\n",
        "  print(\"Key doesn't exists in the dictionary\")"
      ]
    },
    {
      "cell_type": "markdown",
      "metadata": {
        "id": "iSOG3QoFMF1Q"
      },
      "source": [
        "### 26. Write a code to create a list, a tuple, and a dictionary, and print them all."
      ]
    },
    {
      "cell_type": "code",
      "execution_count": 26,
      "metadata": {
        "colab": {
          "base_uri": "https://localhost:8080/"
        },
        "id": "HmH2T23FMJby",
        "outputId": "9c3e00b5-b114-418d-9dc2-da3f02322f9f"
      },
      "outputs": [
        {
          "name": "stdout",
          "output_type": "stream",
          "text": [
            "List: [10, 20, 30, 40, 50]\n",
            "Tuple: [10, 20, 30, 40, 50]\n",
            "Dictionary: {'Name': 'Komal', 'Age': 21}\n"
          ]
        }
      ],
      "source": [
        "#create a list\n",
        "my_list = [10,20,30,40,50]\n",
        "\n",
        "#create a tuple\n",
        "my_tup = (5,15,20)\n",
        "\n",
        "#create a dictionary\n",
        "my_dict = {'Name':'Komal','Age':21}\n",
        "\n",
        "print(\"List:\", my_list)\n",
        "print(\"Tuple:\", my_list)\n",
        "print(\"Dictionary:\", my_dict)"
      ]
    },
    {
      "cell_type": "markdown",
      "metadata": {
        "id": "x6ncQ9Z9MJ9E"
      },
      "source": [
        "### 27. Write a code to create a list of 5 random numbers between 1 and 100, sort it in ascending order, and print the\n",
        "result.(replaced)"
      ]
    },
    {
      "cell_type": "code",
      "execution_count": 27,
      "metadata": {
        "colab": {
          "base_uri": "https://localhost:8080/"
        },
        "id": "yNipR8IBMNQF",
        "outputId": "201f4270-7e8e-41c5-a42e-959949515dd6"
      },
      "outputs": [
        {
          "name": "stdout",
          "output_type": "stream",
          "text": [
            "Sorted number: [29, 31, 58, 64, 68]\n"
          ]
        }
      ],
      "source": [
        "import random\n",
        "#create a list of five random number between 1 and 100.\n",
        "num = [random.randint(1,100) for _ in range(5)]\n",
        "\n",
        "#short the list in ascending order\n",
        "num.sort()\n",
        "\n",
        "#print the result\n",
        "print(\"Sorted number:\", num)"
      ]
    },
    {
      "cell_type": "markdown",
      "metadata": {
        "id": "S2lFL-5_MOhi"
      },
      "source": [
        "### 28. Write a code to create a list with strings and print the element at the third index."
      ]
    },
    {
      "cell_type": "code",
      "execution_count": 28,
      "metadata": {
        "colab": {
          "base_uri": "https://localhost:8080/"
        },
        "id": "rYvGsAPmMV-u",
        "outputId": "d9cd3419-1247-4286-d2c3-cbc0d1f71678"
      },
      "outputs": [
        {
          "name": "stdout",
          "output_type": "stream",
          "text": [
            "Element at the thrid index: mithun\n"
          ]
        }
      ],
      "source": [
        "#create a list with strings\n",
        "name = [\"Deepak\",\"Rohit\",\"Aryan\",\"mithun\",\"rohini\"]\n",
        "\n",
        "#printing the element at thr thrid index.\n",
        "print(\"Element at the thrid index:\", name[3])\n"
      ]
    },
    {
      "cell_type": "markdown",
      "metadata": {
        "id": "_WFDsWLnMWX9"
      },
      "source": [
        "### 29. Write a code to combine two dictionaries into one and print the result."
      ]
    },
    {
      "cell_type": "code",
      "execution_count": 29,
      "metadata": {
        "colab": {
          "base_uri": "https://localhost:8080/"
        },
        "id": "4odeHl9aMZuW",
        "outputId": "2cdb2550-4957-4a64-e2ca-7206b4a72e95"
      },
      "outputs": [
        {
          "name": "stdout",
          "output_type": "stream",
          "text": [
            "combine the name1 and name2 dictionary: {'ritivik', 'rohini', 'mithun', 'Deepak', 'Rohit', 'Aryan', 'pooja'}\n"
          ]
        }
      ],
      "source": [
        "# combine the two dictionary\n",
        "name1 = {\"Deepak\",\"Rohit\",\"Aryan\",\"mithun\",\"rohini\"}\n",
        "name2 = {\"Deepak\",\"ritivik\",\"pooja\",\"Aryan\"}\n",
        "print(\"combine the name1 and name2 dictionary:\", name1 | name2)"
      ]
    },
    {
      "cell_type": "markdown",
      "metadata": {
        "id": "qatcLhgiMaMR"
      },
      "source": [
        "### 30. Write a code to convert a list of strings into a set."
      ]
    },
    {
      "cell_type": "code",
      "execution_count": 1,
      "metadata": {},
      "outputs": [
        {
          "name": "stdout",
          "output_type": "stream",
          "text": [
            "Original List: ['apple', 'banana', 'cherry', 'apple', 'banana']\n",
            "Converted Set: {'cherry', 'banana', 'apple'}\n"
          ]
        }
      ],
      "source": [
        "# List of strings\n",
        "my_list = [\"apple\", \"banana\", \"cherry\", \"apple\", \"banana\"]\n",
        "\n",
        "# Convert list to set\n",
        "my_set = set(my_list)\n",
        "\n",
        "print(\"Original List:\", my_list)\n",
        "print(\"Converted Set:\", my_set)"
      ]
    }
  ],
  "metadata": {
    "colab": {
      "provenance": []
    },
    "kernelspec": {
      "display_name": "Python 3",
      "name": "python3"
    },
    "language_info": {
      "codemirror_mode": {
        "name": "ipython",
        "version": 3
      },
      "file_extension": ".py",
      "mimetype": "text/x-python",
      "name": "python",
      "nbconvert_exporter": "python",
      "pygments_lexer": "ipython3",
      "version": "3.13.5"
    }
  },
  "nbformat": 4,
  "nbformat_minor": 0
}
